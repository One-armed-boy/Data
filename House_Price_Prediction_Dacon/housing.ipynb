{
 "cells": [
  {
   "cell_type": "markdown",
   "id": "fdf6b027",
   "metadata": {},
   "source": [
    "# 라이브러리 및 데이터 불러오기"
   ]
  },
  {
   "cell_type": "code",
   "execution_count": 183,
   "id": "119fbdde",
   "metadata": {
    "ExecuteTime": {
     "end_time": "2022-01-29T08:26:57.673158Z",
     "start_time": "2022-01-29T08:26:57.663207Z"
    }
   },
   "outputs": [],
   "source": [
    "import numpy as np\n",
    "import pandas as pd\n",
    "import matplotlib.pyplot as plt\n",
    "%matplotlib inline\n",
    "plt.style.use(\"ggplot\")\n",
    "import seaborn as sns\n",
    "from sklearn.preprocessing import RobustScaler,MinMaxScaler\n",
    "import warnings\n",
    "warnings.filterwarnings(action='ignore')"
   ]
  },
  {
   "cell_type": "code",
   "execution_count": 184,
   "id": "6d57cc41",
   "metadata": {
    "ExecuteTime": {
     "end_time": "2022-01-29T08:26:57.705092Z",
     "start_time": "2022-01-29T08:26:57.675847Z"
    }
   },
   "outputs": [],
   "source": [
    "train_tmp=pd.read_csv('train.csv').set_index('id')\n",
    "test_tmp=pd.read_csv('test.csv').set_index('id')"
   ]
  },
  {
   "cell_type": "markdown",
   "id": "aa9b06e8",
   "metadata": {},
   "source": [
    "# 데이터 및 결측치 확인"
   ]
  },
  {
   "cell_type": "markdown",
   "id": "cb6b35d7",
   "metadata": {},
   "source": [
    "## 결측치"
   ]
  },
  {
   "cell_type": "code",
   "execution_count": 185,
   "id": "7f11cc2c",
   "metadata": {
    "ExecuteTime": {
     "end_time": "2022-01-29T08:26:57.737019Z",
     "start_time": "2022-01-29T08:26:57.708614Z"
    }
   },
   "outputs": [
    {
     "data": {
      "text/html": [
       "<div>\n",
       "<style scoped>\n",
       "    .dataframe tbody tr th:only-of-type {\n",
       "        vertical-align: middle;\n",
       "    }\n",
       "\n",
       "    .dataframe tbody tr th {\n",
       "        vertical-align: top;\n",
       "    }\n",
       "\n",
       "    .dataframe thead th {\n",
       "        text-align: right;\n",
       "    }\n",
       "</style>\n",
       "<table border=\"1\" class=\"dataframe\">\n",
       "  <thead>\n",
       "    <tr style=\"text-align: right;\">\n",
       "      <th></th>\n",
       "      <th>Overall Qual</th>\n",
       "      <th>Gr Liv Area</th>\n",
       "      <th>Exter Qual</th>\n",
       "      <th>Garage Cars</th>\n",
       "      <th>Garage Area</th>\n",
       "      <th>Kitchen Qual</th>\n",
       "      <th>Total Bsmt SF</th>\n",
       "      <th>1st Flr SF</th>\n",
       "      <th>Bsmt Qual</th>\n",
       "      <th>Full Bath</th>\n",
       "      <th>Year Built</th>\n",
       "      <th>Year Remod/Add</th>\n",
       "      <th>Garage Yr Blt</th>\n",
       "      <th>target</th>\n",
       "    </tr>\n",
       "    <tr>\n",
       "      <th>id</th>\n",
       "      <th></th>\n",
       "      <th></th>\n",
       "      <th></th>\n",
       "      <th></th>\n",
       "      <th></th>\n",
       "      <th></th>\n",
       "      <th></th>\n",
       "      <th></th>\n",
       "      <th></th>\n",
       "      <th></th>\n",
       "      <th></th>\n",
       "      <th></th>\n",
       "      <th></th>\n",
       "      <th></th>\n",
       "    </tr>\n",
       "  </thead>\n",
       "  <tbody>\n",
       "    <tr>\n",
       "      <th>1</th>\n",
       "      <td>10</td>\n",
       "      <td>2392</td>\n",
       "      <td>Ex</td>\n",
       "      <td>3</td>\n",
       "      <td>968</td>\n",
       "      <td>Ex</td>\n",
       "      <td>2392</td>\n",
       "      <td>2392</td>\n",
       "      <td>Ex</td>\n",
       "      <td>2</td>\n",
       "      <td>2003</td>\n",
       "      <td>2003</td>\n",
       "      <td>2003</td>\n",
       "      <td>386250</td>\n",
       "    </tr>\n",
       "    <tr>\n",
       "      <th>2</th>\n",
       "      <td>7</td>\n",
       "      <td>1352</td>\n",
       "      <td>Gd</td>\n",
       "      <td>2</td>\n",
       "      <td>466</td>\n",
       "      <td>Gd</td>\n",
       "      <td>1352</td>\n",
       "      <td>1352</td>\n",
       "      <td>Ex</td>\n",
       "      <td>2</td>\n",
       "      <td>2006</td>\n",
       "      <td>2007</td>\n",
       "      <td>2006</td>\n",
       "      <td>194000</td>\n",
       "    </tr>\n",
       "    <tr>\n",
       "      <th>3</th>\n",
       "      <td>5</td>\n",
       "      <td>900</td>\n",
       "      <td>TA</td>\n",
       "      <td>1</td>\n",
       "      <td>288</td>\n",
       "      <td>TA</td>\n",
       "      <td>864</td>\n",
       "      <td>900</td>\n",
       "      <td>TA</td>\n",
       "      <td>1</td>\n",
       "      <td>1967</td>\n",
       "      <td>1967</td>\n",
       "      <td>1967</td>\n",
       "      <td>123000</td>\n",
       "    </tr>\n",
       "    <tr>\n",
       "      <th>4</th>\n",
       "      <td>5</td>\n",
       "      <td>1174</td>\n",
       "      <td>TA</td>\n",
       "      <td>2</td>\n",
       "      <td>576</td>\n",
       "      <td>Gd</td>\n",
       "      <td>680</td>\n",
       "      <td>680</td>\n",
       "      <td>TA</td>\n",
       "      <td>1</td>\n",
       "      <td>1900</td>\n",
       "      <td>2006</td>\n",
       "      <td>2000</td>\n",
       "      <td>135000</td>\n",
       "    </tr>\n",
       "    <tr>\n",
       "      <th>5</th>\n",
       "      <td>7</td>\n",
       "      <td>1958</td>\n",
       "      <td>Gd</td>\n",
       "      <td>3</td>\n",
       "      <td>936</td>\n",
       "      <td>Gd</td>\n",
       "      <td>1026</td>\n",
       "      <td>1026</td>\n",
       "      <td>Gd</td>\n",
       "      <td>2</td>\n",
       "      <td>2005</td>\n",
       "      <td>2005</td>\n",
       "      <td>2005</td>\n",
       "      <td>250000</td>\n",
       "    </tr>\n",
       "    <tr>\n",
       "      <th>...</th>\n",
       "      <td>...</td>\n",
       "      <td>...</td>\n",
       "      <td>...</td>\n",
       "      <td>...</td>\n",
       "      <td>...</td>\n",
       "      <td>...</td>\n",
       "      <td>...</td>\n",
       "      <td>...</td>\n",
       "      <td>...</td>\n",
       "      <td>...</td>\n",
       "      <td>...</td>\n",
       "      <td>...</td>\n",
       "      <td>...</td>\n",
       "      <td>...</td>\n",
       "    </tr>\n",
       "    <tr>\n",
       "      <th>1346</th>\n",
       "      <td>6</td>\n",
       "      <td>1756</td>\n",
       "      <td>Gd</td>\n",
       "      <td>2</td>\n",
       "      <td>422</td>\n",
       "      <td>TA</td>\n",
       "      <td>872</td>\n",
       "      <td>888</td>\n",
       "      <td>Ex</td>\n",
       "      <td>2</td>\n",
       "      <td>1996</td>\n",
       "      <td>1997</td>\n",
       "      <td>1996</td>\n",
       "      <td>204000</td>\n",
       "    </tr>\n",
       "    <tr>\n",
       "      <th>1347</th>\n",
       "      <td>9</td>\n",
       "      <td>2748</td>\n",
       "      <td>Gd</td>\n",
       "      <td>3</td>\n",
       "      <td>850</td>\n",
       "      <td>Ex</td>\n",
       "      <td>1850</td>\n",
       "      <td>1850</td>\n",
       "      <td>Ex</td>\n",
       "      <td>2</td>\n",
       "      <td>2006</td>\n",
       "      <td>2006</td>\n",
       "      <td>2006</td>\n",
       "      <td>390000</td>\n",
       "    </tr>\n",
       "    <tr>\n",
       "      <th>1348</th>\n",
       "      <td>5</td>\n",
       "      <td>1214</td>\n",
       "      <td>TA</td>\n",
       "      <td>1</td>\n",
       "      <td>318</td>\n",
       "      <td>TA</td>\n",
       "      <td>1214</td>\n",
       "      <td>1214</td>\n",
       "      <td>TA</td>\n",
       "      <td>2</td>\n",
       "      <td>1967</td>\n",
       "      <td>1967</td>\n",
       "      <td>1967</td>\n",
       "      <td>143000</td>\n",
       "    </tr>\n",
       "    <tr>\n",
       "      <th>1349</th>\n",
       "      <td>5</td>\n",
       "      <td>894</td>\n",
       "      <td>TA</td>\n",
       "      <td>2</td>\n",
       "      <td>440</td>\n",
       "      <td>TA</td>\n",
       "      <td>864</td>\n",
       "      <td>894</td>\n",
       "      <td>Gd</td>\n",
       "      <td>1</td>\n",
       "      <td>1974</td>\n",
       "      <td>1974</td>\n",
       "      <td>1974</td>\n",
       "      <td>131000</td>\n",
       "    </tr>\n",
       "    <tr>\n",
       "      <th>1350</th>\n",
       "      <td>5</td>\n",
       "      <td>907</td>\n",
       "      <td>TA</td>\n",
       "      <td>1</td>\n",
       "      <td>343</td>\n",
       "      <td>TA</td>\n",
       "      <td>907</td>\n",
       "      <td>907</td>\n",
       "      <td>Gd</td>\n",
       "      <td>1</td>\n",
       "      <td>1978</td>\n",
       "      <td>1978</td>\n",
       "      <td>1978</td>\n",
       "      <td>140000</td>\n",
       "    </tr>\n",
       "  </tbody>\n",
       "</table>\n",
       "<p>1350 rows × 14 columns</p>\n",
       "</div>"
      ],
      "text/plain": [
       "      Overall Qual  Gr Liv Area Exter Qual  Garage Cars  Garage Area  \\\n",
       "id                                                                     \n",
       "1               10         2392         Ex            3          968   \n",
       "2                7         1352         Gd            2          466   \n",
       "3                5          900         TA            1          288   \n",
       "4                5         1174         TA            2          576   \n",
       "5                7         1958         Gd            3          936   \n",
       "...            ...          ...        ...          ...          ...   \n",
       "1346             6         1756         Gd            2          422   \n",
       "1347             9         2748         Gd            3          850   \n",
       "1348             5         1214         TA            1          318   \n",
       "1349             5          894         TA            2          440   \n",
       "1350             5          907         TA            1          343   \n",
       "\n",
       "     Kitchen Qual  Total Bsmt SF  1st Flr SF Bsmt Qual  Full Bath  Year Built  \\\n",
       "id                                                                              \n",
       "1              Ex           2392        2392        Ex          2        2003   \n",
       "2              Gd           1352        1352        Ex          2        2006   \n",
       "3              TA            864         900        TA          1        1967   \n",
       "4              Gd            680         680        TA          1        1900   \n",
       "5              Gd           1026        1026        Gd          2        2005   \n",
       "...           ...            ...         ...       ...        ...         ...   \n",
       "1346           TA            872         888        Ex          2        1996   \n",
       "1347           Ex           1850        1850        Ex          2        2006   \n",
       "1348           TA           1214        1214        TA          2        1967   \n",
       "1349           TA            864         894        Gd          1        1974   \n",
       "1350           TA            907         907        Gd          1        1978   \n",
       "\n",
       "      Year Remod/Add  Garage Yr Blt  target  \n",
       "id                                           \n",
       "1               2003           2003  386250  \n",
       "2               2007           2006  194000  \n",
       "3               1967           1967  123000  \n",
       "4               2006           2000  135000  \n",
       "5               2005           2005  250000  \n",
       "...              ...            ...     ...  \n",
       "1346            1997           1996  204000  \n",
       "1347            2006           2006  390000  \n",
       "1348            1967           1967  143000  \n",
       "1349            1974           1974  131000  \n",
       "1350            1978           1978  140000  \n",
       "\n",
       "[1350 rows x 14 columns]"
      ]
     },
     "execution_count": 185,
     "metadata": {},
     "output_type": "execute_result"
    }
   ],
   "source": [
    "train_tmp"
   ]
  },
  {
   "cell_type": "code",
   "execution_count": 186,
   "id": "485ef18e",
   "metadata": {
    "ExecuteTime": {
     "end_time": "2022-01-29T08:26:57.752945Z",
     "start_time": "2022-01-29T08:26:57.738981Z"
    }
   },
   "outputs": [
    {
     "data": {
      "text/plain": [
       "Overall Qual      0\n",
       "Gr Liv Area       0\n",
       "Exter Qual        0\n",
       "Garage Cars       0\n",
       "Garage Area       0\n",
       "Kitchen Qual      0\n",
       "Total Bsmt SF     0\n",
       "1st Flr SF        0\n",
       "Bsmt Qual         0\n",
       "Full Bath         0\n",
       "Year Built        0\n",
       "Year Remod/Add    0\n",
       "Garage Yr Blt     0\n",
       "target            0\n",
       "dtype: int64"
      ]
     },
     "execution_count": 186,
     "metadata": {},
     "output_type": "execute_result"
    }
   ],
   "source": [
    "train_tmp.isnull().sum()"
   ]
  },
  {
   "cell_type": "code",
   "execution_count": 187,
   "id": "2353ddaf",
   "metadata": {
    "ExecuteTime": {
     "end_time": "2022-01-29T08:26:57.783861Z",
     "start_time": "2022-01-29T08:26:57.754940Z"
    }
   },
   "outputs": [
    {
     "data": {
      "text/html": [
       "<div>\n",
       "<style scoped>\n",
       "    .dataframe tbody tr th:only-of-type {\n",
       "        vertical-align: middle;\n",
       "    }\n",
       "\n",
       "    .dataframe tbody tr th {\n",
       "        vertical-align: top;\n",
       "    }\n",
       "\n",
       "    .dataframe thead th {\n",
       "        text-align: right;\n",
       "    }\n",
       "</style>\n",
       "<table border=\"1\" class=\"dataframe\">\n",
       "  <thead>\n",
       "    <tr style=\"text-align: right;\">\n",
       "      <th></th>\n",
       "      <th>Overall Qual</th>\n",
       "      <th>Gr Liv Area</th>\n",
       "      <th>Exter Qual</th>\n",
       "      <th>Garage Cars</th>\n",
       "      <th>Garage Area</th>\n",
       "      <th>Kitchen Qual</th>\n",
       "      <th>Total Bsmt SF</th>\n",
       "      <th>1st Flr SF</th>\n",
       "      <th>Bsmt Qual</th>\n",
       "      <th>Full Bath</th>\n",
       "      <th>Year Built</th>\n",
       "      <th>Year Remod/Add</th>\n",
       "      <th>Garage Yr Blt</th>\n",
       "    </tr>\n",
       "    <tr>\n",
       "      <th>id</th>\n",
       "      <th></th>\n",
       "      <th></th>\n",
       "      <th></th>\n",
       "      <th></th>\n",
       "      <th></th>\n",
       "      <th></th>\n",
       "      <th></th>\n",
       "      <th></th>\n",
       "      <th></th>\n",
       "      <th></th>\n",
       "      <th></th>\n",
       "      <th></th>\n",
       "      <th></th>\n",
       "    </tr>\n",
       "  </thead>\n",
       "  <tbody>\n",
       "    <tr>\n",
       "      <th>1</th>\n",
       "      <td>9</td>\n",
       "      <td>1800</td>\n",
       "      <td>Gd</td>\n",
       "      <td>2</td>\n",
       "      <td>702</td>\n",
       "      <td>Ex</td>\n",
       "      <td>1800</td>\n",
       "      <td>1800</td>\n",
       "      <td>Ex</td>\n",
       "      <td>2</td>\n",
       "      <td>2007</td>\n",
       "      <td>2007</td>\n",
       "      <td>2007</td>\n",
       "    </tr>\n",
       "    <tr>\n",
       "      <th>2</th>\n",
       "      <td>6</td>\n",
       "      <td>1082</td>\n",
       "      <td>TA</td>\n",
       "      <td>1</td>\n",
       "      <td>240</td>\n",
       "      <td>TA</td>\n",
       "      <td>1082</td>\n",
       "      <td>1082</td>\n",
       "      <td>TA</td>\n",
       "      <td>1</td>\n",
       "      <td>1948</td>\n",
       "      <td>1950</td>\n",
       "      <td>1948</td>\n",
       "    </tr>\n",
       "    <tr>\n",
       "      <th>3</th>\n",
       "      <td>6</td>\n",
       "      <td>1573</td>\n",
       "      <td>Gd</td>\n",
       "      <td>2</td>\n",
       "      <td>440</td>\n",
       "      <td>Gd</td>\n",
       "      <td>756</td>\n",
       "      <td>769</td>\n",
       "      <td>Gd</td>\n",
       "      <td>2</td>\n",
       "      <td>2000</td>\n",
       "      <td>2000</td>\n",
       "      <td>2000</td>\n",
       "    </tr>\n",
       "    <tr>\n",
       "      <th>4</th>\n",
       "      <td>6</td>\n",
       "      <td>2443</td>\n",
       "      <td>Gd</td>\n",
       "      <td>3</td>\n",
       "      <td>744</td>\n",
       "      <td>Gd</td>\n",
       "      <td>1158</td>\n",
       "      <td>1158</td>\n",
       "      <td>Gd</td>\n",
       "      <td>2</td>\n",
       "      <td>2004</td>\n",
       "      <td>2004</td>\n",
       "      <td>2004</td>\n",
       "    </tr>\n",
       "    <tr>\n",
       "      <th>5</th>\n",
       "      <td>5</td>\n",
       "      <td>1040</td>\n",
       "      <td>TA</td>\n",
       "      <td>2</td>\n",
       "      <td>686</td>\n",
       "      <td>TA</td>\n",
       "      <td>1040</td>\n",
       "      <td>1040</td>\n",
       "      <td>TA</td>\n",
       "      <td>1</td>\n",
       "      <td>1968</td>\n",
       "      <td>1968</td>\n",
       "      <td>1991</td>\n",
       "    </tr>\n",
       "    <tr>\n",
       "      <th>...</th>\n",
       "      <td>...</td>\n",
       "      <td>...</td>\n",
       "      <td>...</td>\n",
       "      <td>...</td>\n",
       "      <td>...</td>\n",
       "      <td>...</td>\n",
       "      <td>...</td>\n",
       "      <td>...</td>\n",
       "      <td>...</td>\n",
       "      <td>...</td>\n",
       "      <td>...</td>\n",
       "      <td>...</td>\n",
       "      <td>...</td>\n",
       "    </tr>\n",
       "    <tr>\n",
       "      <th>1346</th>\n",
       "      <td>8</td>\n",
       "      <td>1932</td>\n",
       "      <td>Ex</td>\n",
       "      <td>3</td>\n",
       "      <td>774</td>\n",
       "      <td>Ex</td>\n",
       "      <td>1932</td>\n",
       "      <td>1932</td>\n",
       "      <td>Ex</td>\n",
       "      <td>2</td>\n",
       "      <td>2008</td>\n",
       "      <td>2008</td>\n",
       "      <td>2008</td>\n",
       "    </tr>\n",
       "    <tr>\n",
       "      <th>1347</th>\n",
       "      <td>5</td>\n",
       "      <td>912</td>\n",
       "      <td>TA</td>\n",
       "      <td>1</td>\n",
       "      <td>288</td>\n",
       "      <td>TA</td>\n",
       "      <td>912</td>\n",
       "      <td>912</td>\n",
       "      <td>TA</td>\n",
       "      <td>1</td>\n",
       "      <td>1964</td>\n",
       "      <td>1964</td>\n",
       "      <td>1964</td>\n",
       "    </tr>\n",
       "    <tr>\n",
       "      <th>1348</th>\n",
       "      <td>4</td>\n",
       "      <td>861</td>\n",
       "      <td>TA</td>\n",
       "      <td>2</td>\n",
       "      <td>288</td>\n",
       "      <td>TA</td>\n",
       "      <td>861</td>\n",
       "      <td>861</td>\n",
       "      <td>Fa</td>\n",
       "      <td>1</td>\n",
       "      <td>1920</td>\n",
       "      <td>1950</td>\n",
       "      <td>1920</td>\n",
       "    </tr>\n",
       "    <tr>\n",
       "      <th>1349</th>\n",
       "      <td>5</td>\n",
       "      <td>1430</td>\n",
       "      <td>TA</td>\n",
       "      <td>2</td>\n",
       "      <td>624</td>\n",
       "      <td>Gd</td>\n",
       "      <td>1430</td>\n",
       "      <td>1430</td>\n",
       "      <td>Ex</td>\n",
       "      <td>2</td>\n",
       "      <td>2004</td>\n",
       "      <td>2005</td>\n",
       "      <td>2004</td>\n",
       "    </tr>\n",
       "    <tr>\n",
       "      <th>1350</th>\n",
       "      <td>5</td>\n",
       "      <td>2337</td>\n",
       "      <td>TA</td>\n",
       "      <td>2</td>\n",
       "      <td>560</td>\n",
       "      <td>TA</td>\n",
       "      <td>662</td>\n",
       "      <td>1422</td>\n",
       "      <td>TA</td>\n",
       "      <td>2</td>\n",
       "      <td>1900</td>\n",
       "      <td>1950</td>\n",
       "      <td>1945</td>\n",
       "    </tr>\n",
       "  </tbody>\n",
       "</table>\n",
       "<p>1350 rows × 13 columns</p>\n",
       "</div>"
      ],
      "text/plain": [
       "      Overall Qual  Gr Liv Area Exter Qual  Garage Cars  Garage Area  \\\n",
       "id                                                                     \n",
       "1                9         1800         Gd            2          702   \n",
       "2                6         1082         TA            1          240   \n",
       "3                6         1573         Gd            2          440   \n",
       "4                6         2443         Gd            3          744   \n",
       "5                5         1040         TA            2          686   \n",
       "...            ...          ...        ...          ...          ...   \n",
       "1346             8         1932         Ex            3          774   \n",
       "1347             5          912         TA            1          288   \n",
       "1348             4          861         TA            2          288   \n",
       "1349             5         1430         TA            2          624   \n",
       "1350             5         2337         TA            2          560   \n",
       "\n",
       "     Kitchen Qual  Total Bsmt SF  1st Flr SF Bsmt Qual  Full Bath  Year Built  \\\n",
       "id                                                                              \n",
       "1              Ex           1800        1800        Ex          2        2007   \n",
       "2              TA           1082        1082        TA          1        1948   \n",
       "3              Gd            756         769        Gd          2        2000   \n",
       "4              Gd           1158        1158        Gd          2        2004   \n",
       "5              TA           1040        1040        TA          1        1968   \n",
       "...           ...            ...         ...       ...        ...         ...   \n",
       "1346           Ex           1932        1932        Ex          2        2008   \n",
       "1347           TA            912         912        TA          1        1964   \n",
       "1348           TA            861         861        Fa          1        1920   \n",
       "1349           Gd           1430        1430        Ex          2        2004   \n",
       "1350           TA            662        1422        TA          2        1900   \n",
       "\n",
       "      Year Remod/Add  Garage Yr Blt  \n",
       "id                                   \n",
       "1               2007           2007  \n",
       "2               1950           1948  \n",
       "3               2000           2000  \n",
       "4               2004           2004  \n",
       "5               1968           1991  \n",
       "...              ...            ...  \n",
       "1346            2008           2008  \n",
       "1347            1964           1964  \n",
       "1348            1950           1920  \n",
       "1349            2005           2004  \n",
       "1350            1950           1945  \n",
       "\n",
       "[1350 rows x 13 columns]"
      ]
     },
     "execution_count": 187,
     "metadata": {},
     "output_type": "execute_result"
    }
   ],
   "source": [
    "test_tmp"
   ]
  },
  {
   "cell_type": "code",
   "execution_count": 188,
   "id": "0ee599fc",
   "metadata": {
    "ExecuteTime": {
     "end_time": "2022-01-29T08:26:57.830735Z",
     "start_time": "2022-01-29T08:26:57.786868Z"
    }
   },
   "outputs": [
    {
     "data": {
      "text/plain": [
       "Overall Qual      0\n",
       "Gr Liv Area       0\n",
       "Exter Qual        0\n",
       "Garage Cars       0\n",
       "Garage Area       0\n",
       "Kitchen Qual      0\n",
       "Total Bsmt SF     0\n",
       "1st Flr SF        0\n",
       "Bsmt Qual         0\n",
       "Full Bath         0\n",
       "Year Built        0\n",
       "Year Remod/Add    0\n",
       "Garage Yr Blt     0\n",
       "dtype: int64"
      ]
     },
     "execution_count": 188,
     "metadata": {},
     "output_type": "execute_result"
    }
   ],
   "source": [
    "test_tmp.isnull().sum()"
   ]
  },
  {
   "cell_type": "markdown",
   "id": "7dd04352",
   "metadata": {},
   "source": [
    "## 데이터 구성 및 타입에 따른 칼럼 분류"
   ]
  },
  {
   "cell_type": "code",
   "execution_count": 189,
   "id": "f0052211",
   "metadata": {
    "ExecuteTime": {
     "end_time": "2022-01-29T08:26:57.846693Z",
     "start_time": "2022-01-29T08:26:57.832731Z"
    }
   },
   "outputs": [
    {
     "data": {
      "text/plain": [
       "array(['Ex', 'Gd', 'TA', 'Fa'], dtype=object)"
      ]
     },
     "execution_count": 189,
     "metadata": {},
     "output_type": "execute_result"
    }
   ],
   "source": [
    "train_tmp['Exter Qual'].unique()"
   ]
  },
  {
   "cell_type": "code",
   "execution_count": 190,
   "id": "ad883233",
   "metadata": {
    "ExecuteTime": {
     "end_time": "2022-01-29T08:26:57.862650Z",
     "start_time": "2022-01-29T08:26:57.849687Z"
    }
   },
   "outputs": [
    {
     "data": {
      "text/plain": [
       "Overall Qual       int64\n",
       "Gr Liv Area        int64\n",
       "Exter Qual        object\n",
       "Garage Cars        int64\n",
       "Garage Area        int64\n",
       "Kitchen Qual      object\n",
       "Total Bsmt SF      int64\n",
       "1st Flr SF         int64\n",
       "Bsmt Qual         object\n",
       "Full Bath          int64\n",
       "Year Built         int64\n",
       "Year Remod/Add     int64\n",
       "Garage Yr Blt      int64\n",
       "target             int64\n",
       "dtype: object"
      ]
     },
     "execution_count": 190,
     "metadata": {},
     "output_type": "execute_result"
    }
   ],
   "source": [
    "train_tmp.dtypes"
   ]
  },
  {
   "cell_type": "code",
   "execution_count": 191,
   "id": "ce49ba4f",
   "metadata": {
    "ExecuteTime": {
     "end_time": "2022-01-29T08:26:57.878608Z",
     "start_time": "2022-01-29T08:26:57.864645Z"
    }
   },
   "outputs": [],
   "source": [
    "num_feat=train_tmp.keys()[(train_tmp.dtypes=='int64')|(train_tmp.dtypes=='float64')]\n",
    "obj_feat=train_tmp.keys()[train_tmp.dtypes=='object']"
   ]
  },
  {
   "cell_type": "code",
   "execution_count": 192,
   "id": "c5dc1574",
   "metadata": {
    "ExecuteTime": {
     "end_time": "2022-01-29T08:26:57.894565Z",
     "start_time": "2022-01-29T08:26:57.881620Z"
    }
   },
   "outputs": [
    {
     "name": "stdout",
     "output_type": "stream",
     "text": [
      "Index(['Overall Qual', 'Gr Liv Area', 'Garage Cars', 'Garage Area',\n",
      "       'Total Bsmt SF', '1st Flr SF', 'Full Bath', 'Year Built',\n",
      "       'Year Remod/Add', 'Garage Yr Blt', 'target'],\n",
      "      dtype='object')\n",
      "Index(['Exter Qual', 'Kitchen Qual', 'Bsmt Qual'], dtype='object')\n"
     ]
    }
   ],
   "source": [
    "print(num_feat)\n",
    "print(obj_feat)"
   ]
  },
  {
   "cell_type": "code",
   "execution_count": 193,
   "id": "f09b3cd6",
   "metadata": {
    "ExecuteTime": {
     "end_time": "2022-01-29T08:26:57.958424Z",
     "start_time": "2022-01-29T08:26:57.896560Z"
    }
   },
   "outputs": [
    {
     "data": {
      "text/html": [
       "<div>\n",
       "<style scoped>\n",
       "    .dataframe tbody tr th:only-of-type {\n",
       "        vertical-align: middle;\n",
       "    }\n",
       "\n",
       "    .dataframe tbody tr th {\n",
       "        vertical-align: top;\n",
       "    }\n",
       "\n",
       "    .dataframe thead th {\n",
       "        text-align: right;\n",
       "    }\n",
       "</style>\n",
       "<table border=\"1\" class=\"dataframe\">\n",
       "  <thead>\n",
       "    <tr style=\"text-align: right;\">\n",
       "      <th></th>\n",
       "      <th>Overall Qual</th>\n",
       "      <th>Gr Liv Area</th>\n",
       "      <th>Garage Cars</th>\n",
       "      <th>Garage Area</th>\n",
       "      <th>Total Bsmt SF</th>\n",
       "      <th>1st Flr SF</th>\n",
       "      <th>Full Bath</th>\n",
       "      <th>Year Built</th>\n",
       "      <th>Year Remod/Add</th>\n",
       "      <th>Garage Yr Blt</th>\n",
       "      <th>target</th>\n",
       "    </tr>\n",
       "  </thead>\n",
       "  <tbody>\n",
       "    <tr>\n",
       "      <th>count</th>\n",
       "      <td>1350.000000</td>\n",
       "      <td>1350.000000</td>\n",
       "      <td>1350.000000</td>\n",
       "      <td>1350.000000</td>\n",
       "      <td>1350.000000</td>\n",
       "      <td>1350.000000</td>\n",
       "      <td>1350.000000</td>\n",
       "      <td>1350.000000</td>\n",
       "      <td>1350.000000</td>\n",
       "      <td>1350.000000</td>\n",
       "      <td>1350.000000</td>\n",
       "    </tr>\n",
       "    <tr>\n",
       "      <th>mean</th>\n",
       "      <td>6.208889</td>\n",
       "      <td>1513.542222</td>\n",
       "      <td>1.870370</td>\n",
       "      <td>502.014815</td>\n",
       "      <td>1082.644444</td>\n",
       "      <td>1167.474074</td>\n",
       "      <td>1.560741</td>\n",
       "      <td>1972.987407</td>\n",
       "      <td>1985.099259</td>\n",
       "      <td>1978.471852</td>\n",
       "      <td>186406.312593</td>\n",
       "    </tr>\n",
       "    <tr>\n",
       "      <th>std</th>\n",
       "      <td>1.338015</td>\n",
       "      <td>487.523239</td>\n",
       "      <td>0.652483</td>\n",
       "      <td>191.389956</td>\n",
       "      <td>384.067713</td>\n",
       "      <td>375.061407</td>\n",
       "      <td>0.551646</td>\n",
       "      <td>29.307257</td>\n",
       "      <td>20.153244</td>\n",
       "      <td>25.377278</td>\n",
       "      <td>78435.424758</td>\n",
       "    </tr>\n",
       "    <tr>\n",
       "      <th>min</th>\n",
       "      <td>2.000000</td>\n",
       "      <td>480.000000</td>\n",
       "      <td>1.000000</td>\n",
       "      <td>100.000000</td>\n",
       "      <td>105.000000</td>\n",
       "      <td>480.000000</td>\n",
       "      <td>0.000000</td>\n",
       "      <td>1880.000000</td>\n",
       "      <td>1950.000000</td>\n",
       "      <td>1900.000000</td>\n",
       "      <td>12789.000000</td>\n",
       "    </tr>\n",
       "    <tr>\n",
       "      <th>25%</th>\n",
       "      <td>5.000000</td>\n",
       "      <td>1144.000000</td>\n",
       "      <td>1.000000</td>\n",
       "      <td>368.000000</td>\n",
       "      <td>816.000000</td>\n",
       "      <td>886.250000</td>\n",
       "      <td>1.000000</td>\n",
       "      <td>1955.000000</td>\n",
       "      <td>1968.000000</td>\n",
       "      <td>1961.000000</td>\n",
       "      <td>135000.000000</td>\n",
       "    </tr>\n",
       "    <tr>\n",
       "      <th>50%</th>\n",
       "      <td>6.000000</td>\n",
       "      <td>1445.500000</td>\n",
       "      <td>2.000000</td>\n",
       "      <td>484.000000</td>\n",
       "      <td>1009.000000</td>\n",
       "      <td>1092.500000</td>\n",
       "      <td>2.000000</td>\n",
       "      <td>1976.000000</td>\n",
       "      <td>1993.000000</td>\n",
       "      <td>1978.500000</td>\n",
       "      <td>165375.000000</td>\n",
       "    </tr>\n",
       "    <tr>\n",
       "      <th>75%</th>\n",
       "      <td>7.000000</td>\n",
       "      <td>1774.500000</td>\n",
       "      <td>2.000000</td>\n",
       "      <td>588.000000</td>\n",
       "      <td>1309.500000</td>\n",
       "      <td>1396.500000</td>\n",
       "      <td>2.000000</td>\n",
       "      <td>2002.000000</td>\n",
       "      <td>2004.000000</td>\n",
       "      <td>2002.000000</td>\n",
       "      <td>217875.000000</td>\n",
       "    </tr>\n",
       "    <tr>\n",
       "      <th>max</th>\n",
       "      <td>10.000000</td>\n",
       "      <td>4476.000000</td>\n",
       "      <td>5.000000</td>\n",
       "      <td>1488.000000</td>\n",
       "      <td>2660.000000</td>\n",
       "      <td>2898.000000</td>\n",
       "      <td>4.000000</td>\n",
       "      <td>2010.000000</td>\n",
       "      <td>2010.000000</td>\n",
       "      <td>2207.000000</td>\n",
       "      <td>745000.000000</td>\n",
       "    </tr>\n",
       "  </tbody>\n",
       "</table>\n",
       "</div>"
      ],
      "text/plain": [
       "       Overall Qual  Gr Liv Area  Garage Cars  Garage Area  Total Bsmt SF  \\\n",
       "count   1350.000000  1350.000000  1350.000000  1350.000000    1350.000000   \n",
       "mean       6.208889  1513.542222     1.870370   502.014815    1082.644444   \n",
       "std        1.338015   487.523239     0.652483   191.389956     384.067713   \n",
       "min        2.000000   480.000000     1.000000   100.000000     105.000000   \n",
       "25%        5.000000  1144.000000     1.000000   368.000000     816.000000   \n",
       "50%        6.000000  1445.500000     2.000000   484.000000    1009.000000   \n",
       "75%        7.000000  1774.500000     2.000000   588.000000    1309.500000   \n",
       "max       10.000000  4476.000000     5.000000  1488.000000    2660.000000   \n",
       "\n",
       "        1st Flr SF    Full Bath   Year Built  Year Remod/Add  Garage Yr Blt  \\\n",
       "count  1350.000000  1350.000000  1350.000000     1350.000000    1350.000000   \n",
       "mean   1167.474074     1.560741  1972.987407     1985.099259    1978.471852   \n",
       "std     375.061407     0.551646    29.307257       20.153244      25.377278   \n",
       "min     480.000000     0.000000  1880.000000     1950.000000    1900.000000   \n",
       "25%     886.250000     1.000000  1955.000000     1968.000000    1961.000000   \n",
       "50%    1092.500000     2.000000  1976.000000     1993.000000    1978.500000   \n",
       "75%    1396.500000     2.000000  2002.000000     2004.000000    2002.000000   \n",
       "max    2898.000000     4.000000  2010.000000     2010.000000    2207.000000   \n",
       "\n",
       "              target  \n",
       "count    1350.000000  \n",
       "mean   186406.312593  \n",
       "std     78435.424758  \n",
       "min     12789.000000  \n",
       "25%    135000.000000  \n",
       "50%    165375.000000  \n",
       "75%    217875.000000  \n",
       "max    745000.000000  "
      ]
     },
     "execution_count": 193,
     "metadata": {},
     "output_type": "execute_result"
    }
   ],
   "source": [
    "train_tmp.describe()"
   ]
  },
  {
   "cell_type": "markdown",
   "id": "efc7f2e0",
   "metadata": {},
   "source": [
    "# EDA 및 시각화"
   ]
  },
  {
   "cell_type": "markdown",
   "id": "d663594e",
   "metadata": {},
   "source": [
    "## 수치형 데이터 분포 확인"
   ]
  },
  {
   "cell_type": "code",
   "execution_count": 194,
   "id": "b5dcbbc3",
   "metadata": {
    "ExecuteTime": {
     "end_time": "2022-01-29T08:26:59.079396Z",
     "start_time": "2022-01-29T08:26:57.960393Z"
    }
   },
   "outputs": [
    {
     "data": {
      "image/png": "[encoded data removed]",
      "text/plain": [
       "<Figure size 1440x1080 with 11 Axes>"
      ]
     },
     "metadata": {},
     "output_type": "display_data"
    }
   ],
   "source": [
    "# Boxplot 을 사용해서 데이터의 분포를 살펴봅니다.\n",
    "plt.figure(figsize=(20,15))\n",
    "plt.suptitle(\"Boxplots\", fontsize=40)\n",
    "\n",
    "for i in range(len(num_feat)):\n",
    "    plt.subplot(4,3,i+1) # 수치형 데이터가 11개이므로 4*3=12개 자리가 필요합니다.\n",
    "    plt.title(num_feat[i])\n",
    "    plt.boxplot(train_tmp[num_feat[i]])\n",
    "plt.show()"
   ]
  },
  {
   "cell_type": "markdown",
   "id": "28a823ee",
   "metadata": {},
   "source": [
    "## 오브젝트 칼럼 분포 확인"
   ]
  },
  {
   "cell_type": "code",
   "execution_count": 195,
   "id": "f2b1212d",
   "metadata": {
    "ExecuteTime": {
     "end_time": "2022-01-29T08:26:59.504492Z",
     "start_time": "2022-01-29T08:26:59.082558Z"
    }
   },
   "outputs": [
    {
     "data": {
      "image/png": "[encoded data removed]",
      "text/plain": [
       "<Figure size 1440x720 with 3 Axes>"
      ]
     },
     "metadata": {},
     "output_type": "display_data"
    }
   ],
   "source": [
    "# 히스토그램 을 사용해서 데이터의 분포를 살펴봅니다.\n",
    "\n",
    "plt.figure(figsize=(20,10))\n",
    "plt.suptitle(\"Bar Plot\", fontsize=40)\n",
    "\n",
    "for i in range(len(obj_feat)):\n",
    "    plt.subplot(1,3,i+1)\n",
    "    plt.title(obj_feat[i], fontsize=20)\n",
    "    temp = train_tmp[obj_feat[i]].value_counts()\n",
    "    plt.bar(temp.keys(), temp.values, width=0.5, color='b', alpha=0.5)\n",
    "    plt.xticks(temp.keys(), fontsize=12)\n",
    "plt.tight_layout(rect=[0, 0.03, 1, 0.95])\n",
    "plt.show()"
   ]
  },
  {
   "cell_type": "markdown",
   "id": "24366190",
   "metadata": {},
   "source": [
    "### target과 오브젝트 칼럼 간 관계 확인"
   ]
  },
  {
   "cell_type": "code",
   "execution_count": 196,
   "id": "38d605e3",
   "metadata": {
    "ExecuteTime": {
     "end_time": "2022-01-29T08:27:00.072601Z",
     "start_time": "2022-01-29T08:26:59.506385Z"
    }
   },
   "outputs": [
    {
     "data": {
      "image/png": "[encoded data removed]",
      "text/plain": [
       "<Figure size 1440x720 with 3 Axes>"
      ]
     },
     "metadata": {},
     "output_type": "display_data"
    }
   ],
   "source": [
    "plt.figure(figsize=(20,10))\n",
    "plt.suptitle('Violin Plot',fontsize=40)\n",
    "for i in range(len(obj_feat)):\n",
    "    plt.subplot(1,3,i+1)\n",
    "    plt.title(obj_feat[i],fontsize=20)\n",
    "    plt.xlabel(obj_feat[i])\n",
    "    plt.ylabel('target')\n",
    "    sns.violinplot(x=train_tmp[obj_feat[i]],y=train_tmp['target'],ci=None)\n",
    "plt.show()"
   ]
  },
  {
   "cell_type": "markdown",
   "id": "4e0087a9",
   "metadata": {},
   "source": [
    "### Overall Qual 과 오브젝트 칼럼 간 관계 확인"
   ]
  },
  {
   "cell_type": "code",
   "execution_count": 197,
   "id": "2f78b2be",
   "metadata": {
    "ExecuteTime": {
     "end_time": "2022-01-29T08:27:00.703821Z",
     "start_time": "2022-01-29T08:27:00.075047Z"
    }
   },
   "outputs": [
    {
     "data": {
      "image/png": "[encoded data removed]",
      "text/plain": [
       "<Figure size 1440x720 with 3 Axes>"
      ]
     },
     "metadata": {},
     "output_type": "display_data"
    }
   ],
   "source": [
    "plt.figure(figsize=(20,10))\n",
    "plt.suptitle('Violin Plot',fontsize=40)\n",
    "for i in range(len(obj_feat)):\n",
    "    plt.subplot(1,3,i+1)\n",
    "    plt.title(obj_feat[i],fontsize=20)\n",
    "    sns.violinplot(x=train_tmp[obj_feat[i]],y=train_tmp['Overall Qual'],ci=None)\n",
    "plt.show()"
   ]
  },
  {
   "cell_type": "markdown",
   "id": "fc0e37e6",
   "metadata": {},
   "source": [
    "# 데이터 전처리"
   ]
  },
  {
   "cell_type": "markdown",
   "id": "fc5612d4",
   "metadata": {},
   "source": [
    "## 모든 칼럼의 수치화"
   ]
  },
  {
   "cell_type": "code",
   "execution_count": 198,
   "id": "403a8126",
   "metadata": {
    "ExecuteTime": {
     "end_time": "2022-01-29T08:27:00.719140Z",
     "start_time": "2022-01-29T08:27:00.706141Z"
    }
   },
   "outputs": [],
   "source": [
    "def preprocessing(train_df:pd.DataFrame,test_df:pd.DataFrame)->list:\n",
    "    train_df=train_df.copy()\n",
    "    test_df=test_df.copy()\n",
    "    result=[train_df['target']]\n",
    "    train_df.drop(columns=['target'],axis=1,inplace=True)\n",
    "    for i,df in enumerate([train_df,test_df]):\n",
    "        df.reset_index(inplace=True)\n",
    "        df['Exter Qual']=df['Exter Qual'].map({'Ex':4,'Gd':3,'TA':2,'Fa':1,'Po':1})\n",
    "        df['Kitchen Qual']=df['Kitchen Qual'].map({'Ex':4,'Gd':3,'TA':2,'Fa':1,'Po':1})\n",
    "        df['Bsmt Qual']=df['Bsmt Qual'].map({'Ex':4,'Gd':3,'TA':2,'Fa':1,'Po':1})\n",
    "        df['Year Built']=df['Year Built'].apply(lambda x: 2022-x)\n",
    "        df['Year Remod/Add']=df['Year Remod/Add'].apply(lambda x: 2022-x)\n",
    "        df['Garage Yr Blt']=df['Garage Yr Blt'].apply(lambda x: 2022-x)\n",
    "        #df['is_Remod']=df['id'].apply(lambda x: 1 if df.loc[x-1,'Year Built']==df.loc[x-1,'Year Remod/Add'] else 0)\n",
    "        #df=pd.get_dummies(df,columns=['Exter Qual','Kitchen Qual','Bsmt Qual'])\n",
    "        result.append(df.set_index('id'))\n",
    "    return result\n",
    "    "
   ]
  },
  {
   "cell_type": "code",
   "execution_count": 199,
   "id": "8ad6b3bb",
   "metadata": {
    "ExecuteTime": {
     "end_time": "2022-01-29T08:27:00.750218Z",
     "start_time": "2022-01-29T08:27:00.722097Z"
    }
   },
   "outputs": [],
   "source": [
    "y_train,x_train,x_test=preprocessing(train_tmp,test_tmp)"
   ]
  },
  {
   "cell_type": "code",
   "execution_count": 200,
   "id": "771bb6ae",
   "metadata": {
    "ExecuteTime": {
     "end_time": "2022-01-29T08:27:00.766351Z",
     "start_time": "2022-01-29T08:27:00.753700Z"
    }
   },
   "outputs": [
    {
     "data": {
      "text/plain": [
       "Index(['Overall Qual', 'Gr Liv Area', 'Exter Qual', 'Garage Cars',\n",
       "       'Garage Area', 'Kitchen Qual', 'Total Bsmt SF', '1st Flr SF',\n",
       "       'Bsmt Qual', 'Full Bath', 'Year Built', 'Year Remod/Add',\n",
       "       'Garage Yr Blt'],\n",
       "      dtype='object')"
      ]
     },
     "execution_count": 200,
     "metadata": {},
     "output_type": "execute_result"
    }
   ],
   "source": [
    "x_train.columns"
   ]
  },
  {
   "cell_type": "code",
   "execution_count": 201,
   "id": "86d90334",
   "metadata": {
    "ExecuteTime": {
     "end_time": "2022-01-29T08:27:00.781547Z",
     "start_time": "2022-01-29T08:27:00.768742Z"
    }
   },
   "outputs": [
    {
     "data": {
      "text/plain": [
       "Index(['Overall Qual', 'Gr Liv Area', 'Exter Qual', 'Garage Cars',\n",
       "       'Garage Area', 'Kitchen Qual', 'Total Bsmt SF', '1st Flr SF',\n",
       "       'Bsmt Qual', 'Full Bath', 'Year Built', 'Year Remod/Add',\n",
       "       'Garage Yr Blt'],\n",
       "      dtype='object')"
      ]
     },
     "execution_count": 201,
     "metadata": {},
     "output_type": "execute_result"
    }
   ],
   "source": [
    "x_test.columns"
   ]
  },
  {
   "cell_type": "code",
   "execution_count": 202,
   "id": "1dd083d5",
   "metadata": {
    "ExecuteTime": {
     "end_time": "2022-01-29T08:27:00.812261Z",
     "start_time": "2022-01-29T08:27:00.783337Z"
    }
   },
   "outputs": [
    {
     "data": {
      "text/html": [
       "<div>\n",
       "<style scoped>\n",
       "    .dataframe tbody tr th:only-of-type {\n",
       "        vertical-align: middle;\n",
       "    }\n",
       "\n",
       "    .dataframe tbody tr th {\n",
       "        vertical-align: top;\n",
       "    }\n",
       "\n",
       "    .dataframe thead th {\n",
       "        text-align: right;\n",
       "    }\n",
       "</style>\n",
       "<table border=\"1\" class=\"dataframe\">\n",
       "  <thead>\n",
       "    <tr style=\"text-align: right;\">\n",
       "      <th></th>\n",
       "      <th>Overall Qual</th>\n",
       "      <th>Gr Liv Area</th>\n",
       "      <th>Exter Qual</th>\n",
       "      <th>Garage Cars</th>\n",
       "      <th>Garage Area</th>\n",
       "      <th>Kitchen Qual</th>\n",
       "      <th>Total Bsmt SF</th>\n",
       "      <th>1st Flr SF</th>\n",
       "      <th>Bsmt Qual</th>\n",
       "      <th>Full Bath</th>\n",
       "      <th>Year Built</th>\n",
       "      <th>Year Remod/Add</th>\n",
       "      <th>Garage Yr Blt</th>\n",
       "    </tr>\n",
       "    <tr>\n",
       "      <th>id</th>\n",
       "      <th></th>\n",
       "      <th></th>\n",
       "      <th></th>\n",
       "      <th></th>\n",
       "      <th></th>\n",
       "      <th></th>\n",
       "      <th></th>\n",
       "      <th></th>\n",
       "      <th></th>\n",
       "      <th></th>\n",
       "      <th></th>\n",
       "      <th></th>\n",
       "      <th></th>\n",
       "    </tr>\n",
       "  </thead>\n",
       "  <tbody>\n",
       "    <tr>\n",
       "      <th>1</th>\n",
       "      <td>10</td>\n",
       "      <td>2392</td>\n",
       "      <td>4</td>\n",
       "      <td>3</td>\n",
       "      <td>968</td>\n",
       "      <td>4</td>\n",
       "      <td>2392</td>\n",
       "      <td>2392</td>\n",
       "      <td>4</td>\n",
       "      <td>2</td>\n",
       "      <td>19</td>\n",
       "      <td>19</td>\n",
       "      <td>19</td>\n",
       "    </tr>\n",
       "    <tr>\n",
       "      <th>2</th>\n",
       "      <td>7</td>\n",
       "      <td>1352</td>\n",
       "      <td>3</td>\n",
       "      <td>2</td>\n",
       "      <td>466</td>\n",
       "      <td>3</td>\n",
       "      <td>1352</td>\n",
       "      <td>1352</td>\n",
       "      <td>4</td>\n",
       "      <td>2</td>\n",
       "      <td>16</td>\n",
       "      <td>15</td>\n",
       "      <td>16</td>\n",
       "    </tr>\n",
       "    <tr>\n",
       "      <th>3</th>\n",
       "      <td>5</td>\n",
       "      <td>900</td>\n",
       "      <td>2</td>\n",
       "      <td>1</td>\n",
       "      <td>288</td>\n",
       "      <td>2</td>\n",
       "      <td>864</td>\n",
       "      <td>900</td>\n",
       "      <td>2</td>\n",
       "      <td>1</td>\n",
       "      <td>55</td>\n",
       "      <td>55</td>\n",
       "      <td>55</td>\n",
       "    </tr>\n",
       "    <tr>\n",
       "      <th>4</th>\n",
       "      <td>5</td>\n",
       "      <td>1174</td>\n",
       "      <td>2</td>\n",
       "      <td>2</td>\n",
       "      <td>576</td>\n",
       "      <td>3</td>\n",
       "      <td>680</td>\n",
       "      <td>680</td>\n",
       "      <td>2</td>\n",
       "      <td>1</td>\n",
       "      <td>122</td>\n",
       "      <td>16</td>\n",
       "      <td>22</td>\n",
       "    </tr>\n",
       "    <tr>\n",
       "      <th>5</th>\n",
       "      <td>7</td>\n",
       "      <td>1958</td>\n",
       "      <td>3</td>\n",
       "      <td>3</td>\n",
       "      <td>936</td>\n",
       "      <td>3</td>\n",
       "      <td>1026</td>\n",
       "      <td>1026</td>\n",
       "      <td>3</td>\n",
       "      <td>2</td>\n",
       "      <td>17</td>\n",
       "      <td>17</td>\n",
       "      <td>17</td>\n",
       "    </tr>\n",
       "    <tr>\n",
       "      <th>...</th>\n",
       "      <td>...</td>\n",
       "      <td>...</td>\n",
       "      <td>...</td>\n",
       "      <td>...</td>\n",
       "      <td>...</td>\n",
       "      <td>...</td>\n",
       "      <td>...</td>\n",
       "      <td>...</td>\n",
       "      <td>...</td>\n",
       "      <td>...</td>\n",
       "      <td>...</td>\n",
       "      <td>...</td>\n",
       "      <td>...</td>\n",
       "    </tr>\n",
       "    <tr>\n",
       "      <th>1346</th>\n",
       "      <td>6</td>\n",
       "      <td>1756</td>\n",
       "      <td>3</td>\n",
       "      <td>2</td>\n",
       "      <td>422</td>\n",
       "      <td>2</td>\n",
       "      <td>872</td>\n",
       "      <td>888</td>\n",
       "      <td>4</td>\n",
       "      <td>2</td>\n",
       "      <td>26</td>\n",
       "      <td>25</td>\n",
       "      <td>26</td>\n",
       "    </tr>\n",
       "    <tr>\n",
       "      <th>1347</th>\n",
       "      <td>9</td>\n",
       "      <td>2748</td>\n",
       "      <td>3</td>\n",
       "      <td>3</td>\n",
       "      <td>850</td>\n",
       "      <td>4</td>\n",
       "      <td>1850</td>\n",
       "      <td>1850</td>\n",
       "      <td>4</td>\n",
       "      <td>2</td>\n",
       "      <td>16</td>\n",
       "      <td>16</td>\n",
       "      <td>16</td>\n",
       "    </tr>\n",
       "    <tr>\n",
       "      <th>1348</th>\n",
       "      <td>5</td>\n",
       "      <td>1214</td>\n",
       "      <td>2</td>\n",
       "      <td>1</td>\n",
       "      <td>318</td>\n",
       "      <td>2</td>\n",
       "      <td>1214</td>\n",
       "      <td>1214</td>\n",
       "      <td>2</td>\n",
       "      <td>2</td>\n",
       "      <td>55</td>\n",
       "      <td>55</td>\n",
       "      <td>55</td>\n",
       "    </tr>\n",
       "    <tr>\n",
       "      <th>1349</th>\n",
       "      <td>5</td>\n",
       "      <td>894</td>\n",
       "      <td>2</td>\n",
       "      <td>2</td>\n",
       "      <td>440</td>\n",
       "      <td>2</td>\n",
       "      <td>864</td>\n",
       "      <td>894</td>\n",
       "      <td>3</td>\n",
       "      <td>1</td>\n",
       "      <td>48</td>\n",
       "      <td>48</td>\n",
       "      <td>48</td>\n",
       "    </tr>\n",
       "    <tr>\n",
       "      <th>1350</th>\n",
       "      <td>5</td>\n",
       "      <td>907</td>\n",
       "      <td>2</td>\n",
       "      <td>1</td>\n",
       "      <td>343</td>\n",
       "      <td>2</td>\n",
       "      <td>907</td>\n",
       "      <td>907</td>\n",
       "      <td>3</td>\n",
       "      <td>1</td>\n",
       "      <td>44</td>\n",
       "      <td>44</td>\n",
       "      <td>44</td>\n",
       "    </tr>\n",
       "  </tbody>\n",
       "</table>\n",
       "<p>1350 rows × 13 columns</p>\n",
       "</div>"
      ],
      "text/plain": [
       "      Overall Qual  Gr Liv Area  Exter Qual  Garage Cars  Garage Area  \\\n",
       "id                                                                      \n",
       "1               10         2392           4            3          968   \n",
       "2                7         1352           3            2          466   \n",
       "3                5          900           2            1          288   \n",
       "4                5         1174           2            2          576   \n",
       "5                7         1958           3            3          936   \n",
       "...            ...          ...         ...          ...          ...   \n",
       "1346             6         1756           3            2          422   \n",
       "1347             9         2748           3            3          850   \n",
       "1348             5         1214           2            1          318   \n",
       "1349             5          894           2            2          440   \n",
       "1350             5          907           2            1          343   \n",
       "\n",
       "      Kitchen Qual  Total Bsmt SF  1st Flr SF  Bsmt Qual  Full Bath  \\\n",
       "id                                                                    \n",
       "1                4           2392        2392          4          2   \n",
       "2                3           1352        1352          4          2   \n",
       "3                2            864         900          2          1   \n",
       "4                3            680         680          2          1   \n",
       "5                3           1026        1026          3          2   \n",
       "...            ...            ...         ...        ...        ...   \n",
       "1346             2            872         888          4          2   \n",
       "1347             4           1850        1850          4          2   \n",
       "1348             2           1214        1214          2          2   \n",
       "1349             2            864         894          3          1   \n",
       "1350             2            907         907          3          1   \n",
       "\n",
       "      Year Built  Year Remod/Add  Garage Yr Blt  \n",
       "id                                               \n",
       "1             19              19             19  \n",
       "2             16              15             16  \n",
       "3             55              55             55  \n",
       "4            122              16             22  \n",
       "5             17              17             17  \n",
       "...          ...             ...            ...  \n",
       "1346          26              25             26  \n",
       "1347          16              16             16  \n",
       "1348          55              55             55  \n",
       "1349          48              48             48  \n",
       "1350          44              44             44  \n",
       "\n",
       "[1350 rows x 13 columns]"
      ]
     },
     "execution_count": 202,
     "metadata": {},
     "output_type": "execute_result"
    }
   ],
   "source": [
    "x_train"
   ]
  },
  {
   "cell_type": "code",
   "execution_count": 203,
   "id": "61183e57",
   "metadata": {
    "ExecuteTime": {
     "end_time": "2022-01-29T08:27:00.828193Z",
     "start_time": "2022-01-29T08:27:00.816222Z"
    }
   },
   "outputs": [],
   "source": [
    "#plt.figure(figsize=(20,10))\n",
    "#sns.violinplot(x=x_train['is_Remod'],y=y_train)"
   ]
  },
  {
   "cell_type": "markdown",
   "id": "7e04eef1",
   "metadata": {},
   "source": [
    "## 회귀 분석을 위한 정규화 과정"
   ]
  },
  {
   "cell_type": "code",
   "execution_count": 204,
   "id": "b39b37b6",
   "metadata": {
    "ExecuteTime": {
     "end_time": "2022-01-29T08:27:00.859280Z",
     "start_time": "2022-01-29T08:27:00.830204Z"
    }
   },
   "outputs": [],
   "source": [
    "scaler=RobustScaler()\n",
    "x_train=scaler.fit_transform(x_train)\n",
    "x_test=scaler.transform(x_test)"
   ]
  },
  {
   "cell_type": "markdown",
   "id": "cf57fb78",
   "metadata": {},
   "source": [
    "## 앙상블 모델 구성을 위한 KFold cross validation"
   ]
  },
  {
   "cell_type": "code",
   "execution_count": 205,
   "id": "e94e66c6",
   "metadata": {
    "ExecuteTime": {
     "end_time": "2022-01-29T08:27:00.875151Z",
     "start_time": "2022-01-29T08:27:00.865092Z"
    }
   },
   "outputs": [],
   "source": [
    "from sklearn.model_selection import KFold"
   ]
  },
  {
   "cell_type": "code",
   "execution_count": 206,
   "id": "b6489648",
   "metadata": {
    "ExecuteTime": {
     "end_time": "2022-01-29T08:27:00.890392Z",
     "start_time": "2022-01-29T08:27:00.878166Z"
    }
   },
   "outputs": [],
   "source": [
    "cv=KFold(\n",
    "    n_splits=3,\n",
    "    shuffle=True,\n",
    "    random_state=25\n",
    ")"
   ]
  },
  {
   "cell_type": "markdown",
   "id": "5bbee269",
   "metadata": {},
   "source": [
    "# 모델링"
   ]
  },
  {
   "cell_type": "markdown",
   "id": "50d30aa6",
   "metadata": {},
   "source": [
    "## 모델 평가를 위한 대회 배포 평가 함수 입력"
   ]
  },
  {
   "cell_type": "code",
   "execution_count": 207,
   "id": "4592fda3",
   "metadata": {
    "ExecuteTime": {
     "end_time": "2022-01-29T08:27:00.906335Z",
     "start_time": "2022-01-29T08:27:00.892037Z"
    }
   },
   "outputs": [],
   "source": [
    "def NMAE(true, pred):\n",
    "    mae = np.mean(np.abs(true-pred))\n",
    "    score = mae / np.mean(np.abs(true))\n",
    "    return score"
   ]
  },
  {
   "cell_type": "markdown",
   "id": "b9593aee",
   "metadata": {},
   "source": [
    "## 단순 선형 회귀, 랜덤포레스트 회귀 모형 이용"
   ]
  },
  {
   "cell_type": "code",
   "execution_count": 208,
   "id": "72c7faf5",
   "metadata": {
    "ExecuteTime": {
     "end_time": "2022-01-29T08:27:00.921696Z",
     "start_time": "2022-01-29T08:27:00.908973Z"
    }
   },
   "outputs": [],
   "source": [
    "from sklearn.linear_model import LinearRegression\n",
    "from sklearn.ensemble import RandomForestRegressor"
   ]
  },
  {
   "cell_type": "code",
   "execution_count": 209,
   "id": "1142ad0a",
   "metadata": {
    "ExecuteTime": {
     "end_time": "2022-01-29T08:27:00.936904Z",
     "start_time": "2022-01-29T08:27:00.923934Z"
    }
   },
   "outputs": [],
   "source": [
    "y_train=np.array(y_train.reset_index().drop({'id'},axis=1))"
   ]
  },
  {
   "cell_type": "markdown",
   "id": "bcb373ac",
   "metadata": {},
   "source": [
    "## 3 Fold cv를 이용한 3개의 모델 생성 및 학습"
   ]
  },
  {
   "cell_type": "code",
   "execution_count": 210,
   "id": "5d791982",
   "metadata": {
    "ExecuteTime": {
     "end_time": "2022-01-29T08:27:02.359097Z",
     "start_time": "2022-01-29T08:27:00.939893Z"
    },
    "scrolled": false
   },
   "outputs": [
    {
     "name": "stdout",
     "output_type": "stream",
     "text": [
      "============================================================\n"
     ]
    },
    {
     "name": "stderr",
     "output_type": "stream",
     "text": [
      "[Parallel(n_jobs=1)]: Using backend SequentialBackend with 1 concurrent workers.\n",
      "[Parallel(n_jobs=1)]: Done 100 out of 100 | elapsed:    0.3s finished\n",
      "[Parallel(n_jobs=1)]: Using backend SequentialBackend with 1 concurrent workers.\n",
      "[Parallel(n_jobs=1)]: Done 100 out of 100 | elapsed:    0.0s finished\n",
      "[Parallel(n_jobs=1)]: Using backend SequentialBackend with 1 concurrent workers.\n"
     ]
    },
    {
     "name": "stdout",
     "output_type": "stream",
     "text": [
      "============================================================\n"
     ]
    },
    {
     "name": "stderr",
     "output_type": "stream",
     "text": [
      "[Parallel(n_jobs=1)]: Done 100 out of 100 | elapsed:    0.3s finished\n",
      "[Parallel(n_jobs=1)]: Using backend SequentialBackend with 1 concurrent workers.\n",
      "[Parallel(n_jobs=1)]: Done 100 out of 100 | elapsed:    0.0s finished\n",
      "[Parallel(n_jobs=1)]: Using backend SequentialBackend with 1 concurrent workers.\n"
     ]
    },
    {
     "name": "stdout",
     "output_type": "stream",
     "text": [
      "============================================================\n",
      "[0.4225580924043811, 0.42297073415277064, 0.3997674026595462]\n",
      "0.4150987430722326\n"
     ]
    },
    {
     "name": "stderr",
     "output_type": "stream",
     "text": [
      "[Parallel(n_jobs=1)]: Done 100 out of 100 | elapsed:    0.3s finished\n",
      "[Parallel(n_jobs=1)]: Using backend SequentialBackend with 1 concurrent workers.\n",
      "[Parallel(n_jobs=1)]: Done 100 out of 100 | elapsed:    0.0s finished\n"
     ]
    }
   ],
   "source": [
    "models=[]\n",
    "scores=[]\n",
    "for train_idx,val_idx in cv.split(x_train,y_train):\n",
    "    print('='*60)\n",
    "    model=RandomForestRegressor(random_state=25,verbose=1)\n",
    "    model.fit(x_train[train_idx],y_train[train_idx])\n",
    "    \n",
    "    models.append(model)\n",
    "    scores.append(NMAE(y_train[val_idx],model.predict(x_train[val_idx])))\n",
    "print(scores)\n",
    "print(np.mean(scores))"
   ]
  },
  {
   "cell_type": "markdown",
   "id": "03feac9c",
   "metadata": {},
   "source": [
    "# 예측"
   ]
  },
  {
   "cell_type": "markdown",
   "id": "1b544682",
   "metadata": {
    "ExecuteTime": {
     "end_time": "2022-01-29T08:23:35.717366Z",
     "start_time": "2022-01-29T08:23:35.709322Z"
    }
   },
   "source": [
    "## K개의 예측 결과를 리스트에 저장"
   ]
  },
  {
   "cell_type": "code",
   "execution_count": 211,
   "id": "90bb01ab",
   "metadata": {
    "ExecuteTime": {
     "end_time": "2022-01-29T08:27:02.451849Z",
     "start_time": "2022-01-29T08:27:02.361090Z"
    }
   },
   "outputs": [
    {
     "name": "stderr",
     "output_type": "stream",
     "text": [
      "[Parallel(n_jobs=1)]: Using backend SequentialBackend with 1 concurrent workers.\n",
      "[Parallel(n_jobs=1)]: Done 100 out of 100 | elapsed:    0.0s finished\n",
      "[Parallel(n_jobs=1)]: Using backend SequentialBackend with 1 concurrent workers.\n",
      "[Parallel(n_jobs=1)]: Done 100 out of 100 | elapsed:    0.0s finished\n",
      "[Parallel(n_jobs=1)]: Using backend SequentialBackend with 1 concurrent workers.\n",
      "[Parallel(n_jobs=1)]: Done 100 out of 100 | elapsed:    0.0s finished\n"
     ]
    }
   ],
   "source": [
    "pred_list=[]\n",
    "for model in models:\n",
    "    pred_list.append(model.predict(x_test))"
   ]
  },
  {
   "cell_type": "markdown",
   "id": "7bbd6a24",
   "metadata": {},
   "source": [
    "## K개의 예측 결과를 평균 내어 하나의 예측 결과 생성"
   ]
  },
  {
   "cell_type": "code",
   "execution_count": 212,
   "id": "96418d11",
   "metadata": {
    "ExecuteTime": {
     "end_time": "2022-01-29T08:27:02.467158Z",
     "start_time": "2022-01-29T08:27:02.454840Z"
    }
   },
   "outputs": [],
   "source": [
    "preds=np.mean(pred_list,axis=0)"
   ]
  },
  {
   "cell_type": "markdown",
   "id": "99a464ef",
   "metadata": {},
   "source": [
    "## 예측 결과 입력"
   ]
  },
  {
   "cell_type": "code",
   "execution_count": 213,
   "id": "867d66ec",
   "metadata": {
    "ExecuteTime": {
     "end_time": "2022-01-29T08:27:02.498322Z",
     "start_time": "2022-01-29T08:27:02.468803Z"
    }
   },
   "outputs": [],
   "source": [
    "submission=pd.read_csv('sample_submission.csv')\n",
    "submission['target']=preds\n",
    "submission.to_csv('D:/Users/user/Desktop/submission.csv',index=False)"
   ]
  },
  {
   "cell_type": "code",
   "execution_count": null,
   "id": "12b7458d",
   "metadata": {},
   "outputs": [],
   "source": []
  }
 ],
 "metadata": {
  "kernelspec": {
   "display_name": "Python 3",
   "language": "python",
   "name": "python3"
  },
  "language_info": {
   "codemirror_mode": {
    "name": "ipython",
    "version": 3
   },
   "file_extension": ".py",
   "mimetype": "text/x-python",
   "name": "python",
   "nbconvert_exporter": "python",
   "pygments_lexer": "ipython3",
   "version": "3.8.8"
  },
  "toc": {
   "base_numbering": 1,
   "nav_menu": {},
   "number_sections": true,
   "sideBar": true,
   "skip_h1_title": false,
   "title_cell": "Table of Contents",
   "title_sidebar": "Contents",
   "toc_cell": false,
   "toc_position": {},
   "toc_section_display": true,
   "toc_window_display": false
  },
  "varInspector": {
   "cols": {
    "lenName": 16,
    "lenType": 16,
    "lenVar": 40
   },
   "kernels_config": {
    "python": {
     "delete_cmd_postfix": "",
     "delete_cmd_prefix": "del ",
     "library": "var_list.py",
     "varRefreshCmd": "print(var_dic_list())"
    },
    "r": {
     "delete_cmd_postfix": ") ",
     "delete_cmd_prefix": "rm(",
     "library": "var_list.r",
     "varRefreshCmd": "cat(var_dic_list()) "
    }
   },
   "types_to_exclude": [
    "module",
    "function",
    "builtin_function_or_method",
    "instance",
    "_Feature"
   ],
   "window_display": false
  }
 },
 "nbformat": 4,
 "nbformat_minor": 5
}
